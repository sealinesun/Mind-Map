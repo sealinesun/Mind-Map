{
  "nbformat": 4,
  "nbformat_minor": 0,
  "metadata": {
    "colab": {
      "name": "Initial Notebook",
      "provenance": [],
      "authorship_tag": "ABX9TyMCn5mUqbA8BVFUqH2R3fEE",
      "include_colab_link": true
    },
    "kernelspec": {
      "name": "python3",
      "display_name": "Python 3"
    },
    "language_info": {
      "name": "python"
    }
  },
  "cells": [
    {
      "cell_type": "markdown",
      "metadata": {
        "id": "view-in-github",
        "colab_type": "text"
      },
      "source": [
        "<a href=\"https://colab.research.google.com/github/bornmay/Mindmap-Full-Stack/blob/master/Initial_Notebook.ipynb\" target=\"_parent\"><img src=\"https://colab.research.google.com/assets/colab-badge.svg\" alt=\"Open In Colab\"/></a>"
      ]
    },
    {
      "cell_type": "markdown",
      "source": [
        "**Importing Library**"
      ],
      "metadata": {
        "id": "4IK7V4WQAo91"
      }
    },
    {
      "cell_type": "code",
      "execution_count": null,
      "metadata": {
        "id": "UGoQ8Rxv8PCx"
      },
      "outputs": [],
      "source": [
        "import numpy as np\n",
        "import matplotlib.pyplot as plt\n",
        "import pandas as pd"
      ]
    },
    {
      "cell_type": "markdown",
      "source": [
        "**loading dataset**"
      ],
      "metadata": {
        "id": "Ege_B1cQAuVU"
      }
    },
    {
      "cell_type": "code",
      "source": [
        "dataset = pd.read_csv('Data.csv')\n",
        "# x is feature which is used to predict values\n",
        "x = dataset.iloc[:, :-1].values # : means range in python lowerbound:upperbound (if no lower and upper select full row)\n",
        "# :-1 means all columns except the last one 0 to n-1 columns \n",
        "# iloc: indexlock accepts rows / columns\n",
        "# y is dependent variable used to check the output \n",
        "y = dataset.iloc[:,-1].values # -1 is index of last column."
      ],
      "metadata": {
        "id": "4J2OkVF18wTo"
      },
      "execution_count": null,
      "outputs": []
    },
    {
      "cell_type": "code",
      "source": [
        "print x"
      ],
      "metadata": {
        "id": "o9jjIJJlAwlT"
      },
      "execution_count": null,
      "outputs": []
    },
    {
      "cell_type": "code",
      "source": [
        "print(X)"
      ],
      "metadata": {
        "colab": {
          "base_uri": "https://localhost:8080/"
        },
        "id": "Isf7C7z5Ae0f",
        "outputId": "a8a48c3b-fc90-44f0-f06a-1d83fb93273a"
      },
      "execution_count": null,
      "outputs": [
        {
          "output_type": "stream",
          "name": "stdout",
          "text": [
            "[['France' 44.0 72000.0]\n",
            " ['Spain' 27.0 48000.0]\n",
            " ['Germany' 30.0 54000.0]\n",
            " ['Spain' 38.0 61000.0]\n",
            " ['Germany' 40.0 nan]\n",
            " ['France' 35.0 58000.0]\n",
            " ['Spain' nan 52000.0]\n",
            " ['France' 48.0 79000.0]\n",
            " ['Germany' 50.0 83000.0]\n",
            " ['France' 37.0 67000.0]]\n"
          ]
        }
      ]
    },
    {
      "cell_type": "markdown",
      "source": [
        "print y"
      ],
      "metadata": {
        "id": "K0MDTO6aAyco"
      }
    },
    {
      "cell_type": "code",
      "source": [
        "print(Y)"
      ],
      "metadata": {
        "colab": {
          "base_uri": "https://localhost:8080/"
        },
        "id": "sFcZWlpmAglV",
        "outputId": "9ed422a1-b183-41ed-99f6-4e600c45ff7b"
      },
      "execution_count": null,
      "outputs": [
        {
          "output_type": "stream",
          "name": "stdout",
          "text": [
            "['No' 'Yes' 'No' 'No' 'Yes' 'Yes' 'No' 'Yes' 'No' 'Yes']\n"
          ]
        }
      ]
    },
    {
      "cell_type": "markdown",
      "source": [
        "**Taking care of Missing Data**"
      ],
      "metadata": {
        "id": "jfHlmESBBzA8"
      }
    },
    {
      "cell_type": "code",
      "source": [
        "from sklearn.impute import SimpleImputer # class SimpleImputer \n",
        "imputer = SimpleImputer(missing_values=np.nan, strategy=\"mean\") # all the missing vals np.nan type with mean strategy\n",
        "# instance of class SimpleImputer is imputer\n",
        "# we will replace the missing with most frequent (mode), average (mean) or middle value (median)\n",
        "imputer.fit(X[:, 1:3]) # all rows and 2 and 3rd column cause 1st column contains the string values\n",
        "# replace values in X\n",
        "X[:, 1:3] = imputer.transform(X[:, 1:3]) # set all rows of column 2 and 3 with updated values in place of nan"
      ],
      "metadata": {
        "id": "oneGPt3uB5MW"
      },
      "execution_count": null,
      "outputs": []
    },
    {
      "cell_type": "code",
      "source": [
        "print(X)"
      ],
      "metadata": {
        "colab": {
          "base_uri": "https://localhost:8080/"
        },
        "id": "6ItunG9yEVgR",
        "outputId": "b98ffc25-596c-4dee-bad0-b3afde9e3897"
      },
      "execution_count": null,
      "outputs": [
        {
          "output_type": "stream",
          "name": "stdout",
          "text": [
            "[['France' 44.0 72000.0]\n",
            " ['Spain' 27.0 48000.0]\n",
            " ['Germany' 30.0 54000.0]\n",
            " ['Spain' 38.0 61000.0]\n",
            " ['Germany' 40.0 63777.77777777778]\n",
            " ['France' 35.0 58000.0]\n",
            " ['Spain' 38.77777777777778 52000.0]\n",
            " ['France' 48.0 79000.0]\n",
            " ['Germany' 50.0 83000.0]\n",
            " ['France' 37.0 67000.0]]\n"
          ]
        }
      ]
    },
    {
      "cell_type": "markdown",
      "source": [
        "**Encoding categorical data**\n",
        " \n",
        " model cant understand Germany, france so we need to encode them in diffrent pattern\n",
        " 1. we can use 1 for Germany 2 for france 3 for spain, but the model will find a relation between them but there isnt any between these countries\n",
        "\n",
        " 2. we will use random binary string for them "
      ],
      "metadata": {
        "id": "UCKYtxqSEnTc"
      }
    },
    {
      "cell_type": "markdown",
      "source": [
        "encoding independent variable (oneHotEncoding)"
      ],
      "metadata": {
        "id": "arOIxxdFHUaE"
      }
    },
    {
      "cell_type": "code",
      "source": [
        "from sklearn.compose import ColumnTransformer\n",
        "from sklearn.preprocessing import OneHotEncoder\n",
        "ct = ColumnTransformer(transformers=[('encoder', OneHotEncoder(), [0])], remainder=\"passthrough\")\n",
        "X = np.array(ct.fit_transform(X))\n",
        "# X= ct.fit_transform(X)"
      ],
      "metadata": {
        "id": "F1hNkCRbHXqz"
      },
      "execution_count": null,
      "outputs": []
    },
    {
      "cell_type": "code",
      "source": [
        "print(X)"
      ],
      "metadata": {
        "colab": {
          "base_uri": "https://localhost:8080/"
        },
        "id": "6JUwb2i7ItHe",
        "outputId": "33667c2f-e19a-4002-9fe6-7d5d80ff5842"
      },
      "execution_count": null,
      "outputs": [
        {
          "output_type": "stream",
          "name": "stdout",
          "text": [
            "[[1.0 0.0 1.0 0.0 0.0 44.0 72000.0]\n",
            " [0.0 1.0 0.0 0.0 1.0 27.0 48000.0]\n",
            " [0.0 1.0 0.0 1.0 0.0 30.0 54000.0]\n",
            " [0.0 1.0 0.0 0.0 1.0 38.0 61000.0]\n",
            " [0.0 1.0 0.0 1.0 0.0 40.0 63777.77777777778]\n",
            " [1.0 0.0 1.0 0.0 0.0 35.0 58000.0]\n",
            " [0.0 1.0 0.0 0.0 1.0 38.77777777777778 52000.0]\n",
            " [1.0 0.0 1.0 0.0 0.0 48.0 79000.0]\n",
            " [0.0 1.0 0.0 1.0 0.0 50.0 83000.0]\n",
            " [1.0 0.0 1.0 0.0 0.0 37.0 67000.0]]\n"
          ]
        }
      ]
    },
    {
      "cell_type": "markdown",
      "source": [
        "now france is 1.0 0.0 1.0 0.0 0.0\n",
        "\n",
        "spain is 0.0 1.0 0.0 0.0 1.0\n",
        "\n",
        "germany is 0.0 1.0 0.0 1.0 0.0\n",
        "\n",
        "OneHotEncoder made 5 diffrent columns"
      ],
      "metadata": {
        "id": "GKz5RFULJKkN"
      }
    },
    {
      "cell_type": "markdown",
      "source": [
        "Now we will Encode Dependent Variable from yes no to 0 and 1"
      ],
      "metadata": {
        "id": "WfZkIEraJkuV"
      }
    },
    {
      "cell_type": "code",
      "source": [
        "from sklearn.preprocessing import LabelEncoder\n",
        "le = LabelEncoder()\n",
        "Y = le.fit_transform(Y)"
      ],
      "metadata": {
        "id": "hVIGCJ3cJgx7"
      },
      "execution_count": null,
      "outputs": []
    },
    {
      "cell_type": "code",
      "source": [
        "print(Y)"
      ],
      "metadata": {
        "colab": {
          "base_uri": "https://localhost:8080/"
        },
        "id": "g65c3hRvJ9id",
        "outputId": "29e54153-7e27-47e5-c25b-35259036cbc2"
      },
      "execution_count": null,
      "outputs": [
        {
          "output_type": "stream",
          "name": "stdout",
          "text": [
            "[0 1 0 0 1 1 0 1 0 1]\n"
          ]
        }
      ]
    },
    {
      "cell_type": "markdown",
      "source": [
        "splitting the dataset into Training set and Test set"
      ],
      "metadata": {
        "id": "Hg73LFRsKGNA"
      }
    }
  ]
}